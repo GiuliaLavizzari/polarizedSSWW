{
 "cells": [
  {
   "cell_type": "markdown",
   "id": "6f613714",
   "metadata": {},
   "source": [
    "# Load dataset"
   ]
  },
  {
   "cell_type": "code",
   "execution_count": 22,
   "id": "5767bdb4",
   "metadata": {},
   "outputs": [],
   "source": [
    "import uproot\n",
    "import awkward as ak\n",
    "import numpy as np\n",
    "from matplotlib import pyplot as plt\n",
    "from math import floor"
   ]
  },
  {
   "cell_type": "code",
   "execution_count": 2,
   "id": "ba7818fb",
   "metadata": {},
   "outputs": [],
   "source": [
    "ssww = uproot.open(\"/eos/user/g/glavizza/nanoAOD/ntuples_polarized/SSWW_polarized_CMrf.root:trees/ssww/SSWW_CMrf_LL/Events\")"
   ]
  },
  {
   "cell_type": "markdown",
   "id": "14a6d491",
   "metadata": {},
   "source": [
    "   ## demo on how to get a pd df for quick analysis\n",
    "   Note that you need to exclude the branches `CleanJet_pt(eta,phi,mass)` because they're not flat! We'll need awkward for that"
   ]
  },
  {
   "cell_type": "code",
   "execution_count": 3,
   "id": "a9d75f5f",
   "metadata": {
    "scrolled": true
   },
   "outputs": [
    {
     "name": "stdout",
     "output_type": "stream",
     "text": [
      "Creating FLAT NTUPLE (pd dataframe) with  XSWeight, nCleanJet, ptj1, ptj2, etaj1, etaj2, phij1, phij2, mj1, mj2, mjj, detajj, ptl1, ptl2, etal1, etal2, phil1, phil2, pdgIdl1, pdgIdl2, mll, ptMET, phiMET, ptv1, ptv2, etav1, etav2, phiv1, phiv2, pdgIdv1, pdgIdv2, weight\n"
     ]
    }
   ],
   "source": [
    "flat_variables = [k for k in ssww.keys() if 'CleanJet_' not in k]\n",
    "print ('Creating FLAT NTUPLE (pd dataframe) with ', ', '.join(flat_variables))\n",
    "ssww_pd = ssww.arrays(flat_variables, library='pd')"
   ]
  },
  {
   "cell_type": "code",
   "execution_count": 4,
   "id": "b7747696",
   "metadata": {
    "scrolled": true
   },
   "outputs": [
    {
     "data": {
      "text/html": [
       "<div>\n",
       "<style scoped>\n",
       "    .dataframe tbody tr th:only-of-type {\n",
       "        vertical-align: middle;\n",
       "    }\n",
       "\n",
       "    .dataframe tbody tr th {\n",
       "        vertical-align: top;\n",
       "    }\n",
       "\n",
       "    .dataframe thead th {\n",
       "        text-align: right;\n",
       "    }\n",
       "</style>\n",
       "<table border=\"1\" class=\"dataframe\">\n",
       "  <thead>\n",
       "    <tr style=\"text-align: right;\">\n",
       "      <th></th>\n",
       "      <th>XSWeight</th>\n",
       "      <th>nCleanJet</th>\n",
       "      <th>ptj1</th>\n",
       "      <th>ptj2</th>\n",
       "      <th>etaj1</th>\n",
       "      <th>etaj2</th>\n",
       "      <th>phij1</th>\n",
       "      <th>phij2</th>\n",
       "      <th>mj1</th>\n",
       "      <th>mj2</th>\n",
       "      <th>...</th>\n",
       "      <th>phiMET</th>\n",
       "      <th>ptv1</th>\n",
       "      <th>ptv2</th>\n",
       "      <th>etav1</th>\n",
       "      <th>etav2</th>\n",
       "      <th>phiv1</th>\n",
       "      <th>phiv2</th>\n",
       "      <th>pdgIdv1</th>\n",
       "      <th>pdgIdv2</th>\n",
       "      <th>weight</th>\n",
       "    </tr>\n",
       "  </thead>\n",
       "  <tbody>\n",
       "    <tr>\n",
       "      <th>0</th>\n",
       "      <td>0.000001</td>\n",
       "      <td>3</td>\n",
       "      <td>93.035866</td>\n",
       "      <td>92.568840</td>\n",
       "      <td>-2.399902</td>\n",
       "      <td>2.033691</td>\n",
       "      <td>1.329590</td>\n",
       "      <td>1.329590</td>\n",
       "      <td>8.699919</td>\n",
       "      <td>11.414845</td>\n",
       "      <td>...</td>\n",
       "      <td>1.243566</td>\n",
       "      <td>45.0000</td>\n",
       "      <td>33.000000</td>\n",
       "      <td>-0.379883</td>\n",
       "      <td>-0.876953</td>\n",
       "      <td>1.789062</td>\n",
       "      <td>1.039062</td>\n",
       "      <td>14.0</td>\n",
       "      <td>14.0</td>\n",
       "      <td>0.000065</td>\n",
       "    </tr>\n",
       "    <tr>\n",
       "      <th>1</th>\n",
       "      <td>0.000001</td>\n",
       "      <td>2</td>\n",
       "      <td>131.850616</td>\n",
       "      <td>63.007259</td>\n",
       "      <td>-2.770508</td>\n",
       "      <td>3.125977</td>\n",
       "      <td>-0.577393</td>\n",
       "      <td>-0.577393</td>\n",
       "      <td>15.959492</td>\n",
       "      <td>10.241407</td>\n",
       "      <td>...</td>\n",
       "      <td>0.574508</td>\n",
       "      <td>30.3125</td>\n",
       "      <td>14.312500</td>\n",
       "      <td>0.837891</td>\n",
       "      <td>-3.789062</td>\n",
       "      <td>0.433594</td>\n",
       "      <td>-2.773438</td>\n",
       "      <td>14.0</td>\n",
       "      <td>12.0</td>\n",
       "      <td>0.000065</td>\n",
       "    </tr>\n",
       "    <tr>\n",
       "      <th>2</th>\n",
       "      <td>0.000001</td>\n",
       "      <td>3</td>\n",
       "      <td>173.154785</td>\n",
       "      <td>61.253094</td>\n",
       "      <td>1.701172</td>\n",
       "      <td>-3.809570</td>\n",
       "      <td>0.618530</td>\n",
       "      <td>0.618530</td>\n",
       "      <td>26.120375</td>\n",
       "      <td>11.212483</td>\n",
       "      <td>...</td>\n",
       "      <td>3.024451</td>\n",
       "      <td>156.5000</td>\n",
       "      <td>12.687500</td>\n",
       "      <td>-0.017822</td>\n",
       "      <td>1.070312</td>\n",
       "      <td>-3.125000</td>\n",
       "      <td>2.187500</td>\n",
       "      <td>12.0</td>\n",
       "      <td>14.0</td>\n",
       "      <td>0.000065</td>\n",
       "    </tr>\n",
       "    <tr>\n",
       "      <th>3</th>\n",
       "      <td>0.000001</td>\n",
       "      <td>7</td>\n",
       "      <td>140.346786</td>\n",
       "      <td>135.559814</td>\n",
       "      <td>3.371094</td>\n",
       "      <td>-1.844971</td>\n",
       "      <td>1.710938</td>\n",
       "      <td>1.710938</td>\n",
       "      <td>21.245579</td>\n",
       "      <td>10.421633</td>\n",
       "      <td>...</td>\n",
       "      <td>-0.125183</td>\n",
       "      <td>70.2500</td>\n",
       "      <td>28.812500</td>\n",
       "      <td>-0.900391</td>\n",
       "      <td>0.904297</td>\n",
       "      <td>0.785156</td>\n",
       "      <td>-0.679688</td>\n",
       "      <td>12.0</td>\n",
       "      <td>12.0</td>\n",
       "      <td>0.000065</td>\n",
       "    </tr>\n",
       "    <tr>\n",
       "      <th>4</th>\n",
       "      <td>0.000001</td>\n",
       "      <td>7</td>\n",
       "      <td>117.264397</td>\n",
       "      <td>77.769096</td>\n",
       "      <td>-2.772461</td>\n",
       "      <td>1.155518</td>\n",
       "      <td>-0.849365</td>\n",
       "      <td>-0.849365</td>\n",
       "      <td>14.153778</td>\n",
       "      <td>4.667251</td>\n",
       "      <td>...</td>\n",
       "      <td>-1.708070</td>\n",
       "      <td>116.5000</td>\n",
       "      <td>70.000000</td>\n",
       "      <td>0.587891</td>\n",
       "      <td>-1.453125</td>\n",
       "      <td>-0.718750</td>\n",
       "      <td>2.671875</td>\n",
       "      <td>12.0</td>\n",
       "      <td>16.0</td>\n",
       "      <td>0.000065</td>\n",
       "    </tr>\n",
       "    <tr>\n",
       "      <th>...</th>\n",
       "      <td>...</td>\n",
       "      <td>...</td>\n",
       "      <td>...</td>\n",
       "      <td>...</td>\n",
       "      <td>...</td>\n",
       "      <td>...</td>\n",
       "      <td>...</td>\n",
       "      <td>...</td>\n",
       "      <td>...</td>\n",
       "      <td>...</td>\n",
       "      <td>...</td>\n",
       "      <td>...</td>\n",
       "      <td>...</td>\n",
       "      <td>...</td>\n",
       "      <td>...</td>\n",
       "      <td>...</td>\n",
       "      <td>...</td>\n",
       "      <td>...</td>\n",
       "      <td>...</td>\n",
       "      <td>...</td>\n",
       "      <td>...</td>\n",
       "    </tr>\n",
       "    <tr>\n",
       "      <th>153895</th>\n",
       "      <td>0.000001</td>\n",
       "      <td>6</td>\n",
       "      <td>202.521057</td>\n",
       "      <td>124.440140</td>\n",
       "      <td>-1.461182</td>\n",
       "      <td>3.062988</td>\n",
       "      <td>0.085739</td>\n",
       "      <td>0.085739</td>\n",
       "      <td>19.745804</td>\n",
       "      <td>19.841438</td>\n",
       "      <td>...</td>\n",
       "      <td>3.023926</td>\n",
       "      <td>178.0000</td>\n",
       "      <td>29.000000</td>\n",
       "      <td>0.783203</td>\n",
       "      <td>1.960938</td>\n",
       "      <td>2.656250</td>\n",
       "      <td>2.664062</td>\n",
       "      <td>12.0</td>\n",
       "      <td>12.0</td>\n",
       "      <td>0.000065</td>\n",
       "    </tr>\n",
       "    <tr>\n",
       "      <th>153896</th>\n",
       "      <td>0.000001</td>\n",
       "      <td>5</td>\n",
       "      <td>153.651657</td>\n",
       "      <td>105.192299</td>\n",
       "      <td>-2.015625</td>\n",
       "      <td>1.405029</td>\n",
       "      <td>-3.095703</td>\n",
       "      <td>-3.095703</td>\n",
       "      <td>10.373075</td>\n",
       "      <td>15.445271</td>\n",
       "      <td>...</td>\n",
       "      <td>-0.816243</td>\n",
       "      <td>49.1250</td>\n",
       "      <td>47.875000</td>\n",
       "      <td>0.474609</td>\n",
       "      <td>2.085938</td>\n",
       "      <td>-1.320312</td>\n",
       "      <td>-2.234375</td>\n",
       "      <td>14.0</td>\n",
       "      <td>14.0</td>\n",
       "      <td>0.000065</td>\n",
       "    </tr>\n",
       "    <tr>\n",
       "      <th>153897</th>\n",
       "      <td>0.000001</td>\n",
       "      <td>4</td>\n",
       "      <td>217.794022</td>\n",
       "      <td>113.000122</td>\n",
       "      <td>-2.128906</td>\n",
       "      <td>3.973633</td>\n",
       "      <td>2.668945</td>\n",
       "      <td>2.668945</td>\n",
       "      <td>41.217140</td>\n",
       "      <td>19.985561</td>\n",
       "      <td>...</td>\n",
       "      <td>0.619845</td>\n",
       "      <td>52.0000</td>\n",
       "      <td>32.625000</td>\n",
       "      <td>-1.835938</td>\n",
       "      <td>1.464844</td>\n",
       "      <td>-0.917969</td>\n",
       "      <td>1.281250</td>\n",
       "      <td>12.0</td>\n",
       "      <td>14.0</td>\n",
       "      <td>0.000065</td>\n",
       "    </tr>\n",
       "    <tr>\n",
       "      <th>153898</th>\n",
       "      <td>0.000001</td>\n",
       "      <td>5</td>\n",
       "      <td>96.247742</td>\n",
       "      <td>92.818321</td>\n",
       "      <td>1.073242</td>\n",
       "      <td>-3.510254</td>\n",
       "      <td>1.446045</td>\n",
       "      <td>1.446045</td>\n",
       "      <td>12.417070</td>\n",
       "      <td>13.075471</td>\n",
       "      <td>...</td>\n",
       "      <td>-2.563965</td>\n",
       "      <td>79.7500</td>\n",
       "      <td>5.921875</td>\n",
       "      <td>0.947266</td>\n",
       "      <td>2.789062</td>\n",
       "      <td>-2.429688</td>\n",
       "      <td>-1.238281</td>\n",
       "      <td>12.0</td>\n",
       "      <td>12.0</td>\n",
       "      <td>0.000065</td>\n",
       "    </tr>\n",
       "    <tr>\n",
       "      <th>153899</th>\n",
       "      <td>0.000001</td>\n",
       "      <td>5</td>\n",
       "      <td>339.184296</td>\n",
       "      <td>74.317123</td>\n",
       "      <td>-0.329102</td>\n",
       "      <td>3.061523</td>\n",
       "      <td>-1.039551</td>\n",
       "      <td>-1.039551</td>\n",
       "      <td>59.104130</td>\n",
       "      <td>11.530128</td>\n",
       "      <td>...</td>\n",
       "      <td>1.867810</td>\n",
       "      <td>137.0000</td>\n",
       "      <td>29.250000</td>\n",
       "      <td>0.313477</td>\n",
       "      <td>0.896484</td>\n",
       "      <td>2.101562</td>\n",
       "      <td>1.410156</td>\n",
       "      <td>-16.0</td>\n",
       "      <td>16.0</td>\n",
       "      <td>0.000065</td>\n",
       "    </tr>\n",
       "  </tbody>\n",
       "</table>\n",
       "<p>153900 rows × 32 columns</p>\n",
       "</div>"
      ],
      "text/plain": [
       "        XSWeight  nCleanJet        ptj1        ptj2     etaj1     etaj2  \\\n",
       "0       0.000001          3   93.035866   92.568840 -2.399902  2.033691   \n",
       "1       0.000001          2  131.850616   63.007259 -2.770508  3.125977   \n",
       "2       0.000001          3  173.154785   61.253094  1.701172 -3.809570   \n",
       "3       0.000001          7  140.346786  135.559814  3.371094 -1.844971   \n",
       "4       0.000001          7  117.264397   77.769096 -2.772461  1.155518   \n",
       "...          ...        ...         ...         ...       ...       ...   \n",
       "153895  0.000001          6  202.521057  124.440140 -1.461182  3.062988   \n",
       "153896  0.000001          5  153.651657  105.192299 -2.015625  1.405029   \n",
       "153897  0.000001          4  217.794022  113.000122 -2.128906  3.973633   \n",
       "153898  0.000001          5   96.247742   92.818321  1.073242 -3.510254   \n",
       "153899  0.000001          5  339.184296   74.317123 -0.329102  3.061523   \n",
       "\n",
       "           phij1     phij2        mj1        mj2  ...    phiMET      ptv1  \\\n",
       "0       1.329590  1.329590   8.699919  11.414845  ...  1.243566   45.0000   \n",
       "1      -0.577393 -0.577393  15.959492  10.241407  ...  0.574508   30.3125   \n",
       "2       0.618530  0.618530  26.120375  11.212483  ...  3.024451  156.5000   \n",
       "3       1.710938  1.710938  21.245579  10.421633  ... -0.125183   70.2500   \n",
       "4      -0.849365 -0.849365  14.153778   4.667251  ... -1.708070  116.5000   \n",
       "...          ...       ...        ...        ...  ...       ...       ...   \n",
       "153895  0.085739  0.085739  19.745804  19.841438  ...  3.023926  178.0000   \n",
       "153896 -3.095703 -3.095703  10.373075  15.445271  ... -0.816243   49.1250   \n",
       "153897  2.668945  2.668945  41.217140  19.985561  ...  0.619845   52.0000   \n",
       "153898  1.446045  1.446045  12.417070  13.075471  ... -2.563965   79.7500   \n",
       "153899 -1.039551 -1.039551  59.104130  11.530128  ...  1.867810  137.0000   \n",
       "\n",
       "             ptv2     etav1     etav2     phiv1     phiv2  pdgIdv1  pdgIdv2  \\\n",
       "0       33.000000 -0.379883 -0.876953  1.789062  1.039062     14.0     14.0   \n",
       "1       14.312500  0.837891 -3.789062  0.433594 -2.773438     14.0     12.0   \n",
       "2       12.687500 -0.017822  1.070312 -3.125000  2.187500     12.0     14.0   \n",
       "3       28.812500 -0.900391  0.904297  0.785156 -0.679688     12.0     12.0   \n",
       "4       70.000000  0.587891 -1.453125 -0.718750  2.671875     12.0     16.0   \n",
       "...           ...       ...       ...       ...       ...      ...      ...   \n",
       "153895  29.000000  0.783203  1.960938  2.656250  2.664062     12.0     12.0   \n",
       "153896  47.875000  0.474609  2.085938 -1.320312 -2.234375     14.0     14.0   \n",
       "153897  32.625000 -1.835938  1.464844 -0.917969  1.281250     12.0     14.0   \n",
       "153898   5.921875  0.947266  2.789062 -2.429688 -1.238281     12.0     12.0   \n",
       "153899  29.250000  0.313477  0.896484  2.101562  1.410156    -16.0     16.0   \n",
       "\n",
       "          weight  \n",
       "0       0.000065  \n",
       "1       0.000065  \n",
       "2       0.000065  \n",
       "3       0.000065  \n",
       "4       0.000065  \n",
       "...          ...  \n",
       "153895  0.000065  \n",
       "153896  0.000065  \n",
       "153897  0.000065  \n",
       "153898  0.000065  \n",
       "153899  0.000065  \n",
       "\n",
       "[153900 rows x 32 columns]"
      ]
     },
     "execution_count": 4,
     "metadata": {},
     "output_type": "execute_result"
    }
   ],
   "source": [
    "ssww_pd"
   ]
  },
  {
   "cell_type": "markdown",
   "id": "fad4750a",
   "metadata": {},
   "source": [
    "# Utils for scaling and manipulation of inputs"
   ]
  },
  {
   "cell_type": "code",
   "execution_count": 5,
   "id": "ee7e9e62",
   "metadata": {},
   "outputs": [],
   "source": [
    "PI= 3.1416015625\n",
    "\n",
    "def logistic(x):\n",
    "    return 1/(1+np.exp(-x))\n",
    "\n",
    "def logit(x, clip=1e-6):\n",
    "    x = np.clip(x, a_min=clip, a_max=1-clip)\n",
    "    return np.log(x/(1-x))"
   ]
  },
  {
   "cell_type": "code",
   "execution_count": 6,
   "id": "b8d6c6d9",
   "metadata": {},
   "outputs": [
    {
     "data": {
      "text/plain": [
       "<matplotlib.legend.Legend at 0x7f837eba1e90>"
      ]
     },
     "execution_count": 6,
     "metadata": {},
     "output_type": "execute_result"
    },
    {
     "data": {
      "image/png": "[encoded data removed]",
      "text/plain": [
       "<Figure size 576x288 with 2 Axes>"
      ]
     },
     "metadata": {
      "needs_background": "light"
     },
     "output_type": "display_data"
    }
   ],
   "source": [
    "f, axs = plt.subplots(1, 2, figsize=(8,4))\n",
    "x = np.linspace(1e-5, 1-1e-5, 10000)\n",
    "axs[0].plot(x, logit(x), label=\"logit\")\n",
    "axs[0].legend()\n",
    "\n",
    "x = np.linspace(-10, 10, 10000)\n",
    "axs[1].plot(x, logistic(x), label=\"logistic\")\n",
    "axs[1].legend()"
   ]
  },
  {
   "cell_type": "markdown",
   "id": "a38b8046",
   "metadata": {},
   "source": [
    "# Dataset preparation: create the tensors (we'll do flat first)"
   ]
  },
  {
   "cell_type": "markdown",
   "id": "4da280a4",
   "metadata": {},
   "source": [
    "### leptons"
   ]
  },
  {
   "cell_type": "code",
   "execution_count": 7,
   "id": "37266e71",
   "metadata": {},
   "outputs": [],
   "source": [
    "lepPt1 = ssww['ptl1'].array(library='np')\n",
    "lepPt2 = ssww['ptl2'].array(library='np')\n",
    "lepPt1scaled = np.log(1 + lepPt1 - 20.) # 20. is the minimum pt\n",
    "lepPt2scaled = np.log(1 + lepPt2 - 20.)\n",
    "\n",
    "lepEta1 = ssww['etal1'].array(library='np')\n",
    "lepEta2 = ssww['etal2'].array(library='np')\n",
    "\n",
    "lepPhi1 = ssww['phil1'].array(library='np')\n",
    "lepPhi2 = ssww['phil2'].array(library='np')\n",
    "lepPhi1scaled = logit( (lepPhi1 + PI )/(2*PI), clip=1e-6)\n",
    "lepPhi2scaled = logit( (lepPhi2 + PI )/(2*PI), clip=1e-6)"
   ]
  },
  {
   "cell_type": "markdown",
   "id": "60099780",
   "metadata": {},
   "source": [
    "**Demo of scaling**"
   ]
  },
  {
   "cell_type": "code",
   "execution_count": 8,
   "id": "3b45f400",
   "metadata": {},
   "outputs": [
    {
     "data": {
      "image/png": "[encoded data removed]",
      "text/plain": [
       "<Figure size 864x576 with 6 Axes>"
      ]
     },
     "metadata": {
      "needs_background": "light"
     },
     "output_type": "display_data"
    }
   ],
   "source": [
    "fig, ax = plt.subplots(2, 3, figsize=(12,8))\n",
    "ax[0][0].hist(lepPt1, bins=50)\n",
    "ax[0][0].set_xlabel('pt l1')\n",
    "ax[1][0].hist(lepPt1scaled, bins=50)\n",
    "ax[1][0].set_xlabel('pt l1 scaled')\n",
    "\n",
    "ax[0][1].hist(lepEta1, bins=50)\n",
    "ax[0][1].set_xlabel('eta l1')\n",
    "ax[1][1].hist(lepEta1, bins=50)\n",
    "ax[1][1].set_xlabel('eta l1 (no difference)')\n",
    "\n",
    "ax[0][2].hist(lepPhi1, bins=50)\n",
    "ax[0][2].set_xlabel('phi l1')\n",
    "ax[1][2].hist(lepPhi1scaled, bins=50)\n",
    "ax[1][2].set_xlabel('phi l1 scaled')\n",
    "\n",
    "plt.show()"
   ]
  },
  {
   "cell_type": "markdown",
   "id": "b958ae78",
   "metadata": {},
   "source": [
    "**Now merge into single object**"
   ]
  },
  {
   "cell_type": "code",
   "execution_count": 9,
   "id": "fb5a0ad1",
   "metadata": {},
   "outputs": [
    {
     "name": "stdout",
     "output_type": "stream",
     "text": [
      "(3, 2)\n",
      "(153900, 2) N events x 2 leptons\n",
      "(153900, 2, 3) N events x 2 leptons x 3 features (pt, eta, phi)\n",
      "(153900, 2, 3)\n"
     ]
    }
   ],
   "source": [
    "lepPt = np.stack([lepPt1scaled,lepPt2scaled], axis=1)\n",
    "lepEta = np.stack([lepEta1,lepEta2], axis=1)\n",
    "lepPhi = np.stack([lepPhi1scaled,lepPhi2scaled], axis=1)\n",
    "\n",
    "lepTensor = np.stack([lepPt, lepEta, lepPhi], axis=2)\n",
    "\n",
    "lep_mean = np.mean(lepTensor, axis=(0,1))\n",
    "lep_std = np.std(lepTensor, axis=(0,1))\n",
    "lep_scaling = np.stack([lep_mean, lep_std], axis=1)\n",
    "print (np.shape(lep_scaling))\n",
    "lepTensorNorm = (lepTensor - lep_mean) /lep_std\n",
    "\n",
    "print (np.shape(lepPt), \"N events x 2 leptons\")\n",
    "print (np.shape(lepTensor), \"N events x 2 leptons x 3 features (pt, eta, phi)\")\n",
    "print (np.shape(lepTensorNorm))"
   ]
  },
  {
   "cell_type": "markdown",
   "id": "320751aa",
   "metadata": {},
   "source": [
    "### met"
   ]
  },
  {
   "cell_type": "code",
   "execution_count": 10,
   "id": "40d1f491",
   "metadata": {},
   "outputs": [
    {
     "name": "stdout",
     "output_type": "stream",
     "text": [
      "(153900, 1, 2)\n",
      "(153900, 1, 2)\n"
     ]
    }
   ],
   "source": [
    "metPt = np.log(1 + ssww['ptMET'].array(library='np') - 30.) # 30 is met minimum\n",
    "metPhi = logit( (ssww['phiMET'].array(library='np') + PI )/(2*PI), clip=1e-6)\n",
    "\n",
    "metTensor = np.stack([np.expand_dims(metPt, 1),np.expand_dims(metPhi, 1)], axis=2)\n",
    "\n",
    "met_mean = np.mean(metTensor, axis=(0,1))\n",
    "met_std = np.std(metTensor, axis=(0,1))\n",
    "met_scaling = np.stack([met_mean, met_std], axis=1)\n",
    "\n",
    "metTensorNorm = (metTensor - met_mean) /met_std\n",
    "\n",
    "print (np.shape(metTensor))\n",
    "print (np.shape(metTensorNorm))"
   ]
  },
  {
   "cell_type": "markdown",
   "id": "c1faa950",
   "metadata": {},
   "source": [
    "### VBS jets (no scaling, will not use them)"
   ]
  },
  {
   "cell_type": "code",
   "execution_count": 11,
   "id": "43aac21a",
   "metadata": {},
   "outputs": [
    {
     "name": "stdout",
     "output_type": "stream",
     "text": [
      "(153900, 2, 4)\n"
     ]
    }
   ],
   "source": [
    "jetPt1 = ssww['ptj1'].array(library='np')\n",
    "jetPt2 = ssww['ptj2'].array(library='np')\n",
    "\n",
    "jetEta1 = ssww['etaj1'].array(library='np')\n",
    "jetEta2 = ssww['etaj2'].array(library='np')\n",
    "\n",
    "jetPhi1 = ssww['phij1'].array(library='np')\n",
    "jetPhi2 = ssww['phij2'].array(library='np')\n",
    "\n",
    "jetM1 = ssww['mj1'].array(library='np')\n",
    "jetM2 = ssww['mj2'].array(library='np')\n",
    "\n",
    "jetPt = np.stack([jetPt1,jetPt2], axis=1)\n",
    "jetEta = np.stack([jetEta1,jetEta2], axis=1)\n",
    "jetPhi = np.stack([jetPhi1,jetPhi2], axis=1)\n",
    "jetM = np.stack([jetM1,jetM2], axis=1)\n",
    "\n",
    "VBSjetTensor = np.stack([jetPt, jetEta, jetPhi, jetM], axis=2)\n",
    "\n",
    "print (np.shape(VBSjetTensor))"
   ]
  },
  {
   "cell_type": "markdown",
   "id": "51a9b45b",
   "metadata": {},
   "source": [
    "### di-jet variables"
   ]
  },
  {
   "cell_type": "code",
   "execution_count": 12,
   "id": "dc69a3ad",
   "metadata": {},
   "outputs": [
    {
     "name": "stdout",
     "output_type": "stream",
     "text": [
      "(153900, 1, 2)\n"
     ]
    }
   ],
   "source": [
    "mjj = np.log(1 + ssww['mjj'].array(library='np') - 500.) # min is 500 GeV\n",
    "detajj = ssww['detajj'].array(library='np') #no need to scale\n",
    "\n",
    "jjTensor = np.stack([np.expand_dims(mjj, 1),np.expand_dims(detajj, 1)], axis=2)\n",
    "\n",
    "jj_mean = np.mean(jjTensor, axis=(0,1))\n",
    "jj_std = np.std(jjTensor, axis=(0,1))\n",
    "jj_scaling = np.stack([jj_mean, jj_std], axis=1)\n",
    "\n",
    "jjTensorNorm = (jjTensor - jj_mean) /jj_std\n",
    "\n",
    "print (np.shape(jjTensor))"
   ]
  },
  {
   "cell_type": "code",
   "execution_count": 13,
   "id": "4996e5bd",
   "metadata": {},
   "outputs": [
    {
     "data": {
      "image/png": "[encoded data removed]",
      "text/plain": [
       "<Figure size 864x288 with 2 Axes>"
      ]
     },
     "metadata": {
      "needs_background": "light"
     },
     "output_type": "display_data"
    }
   ],
   "source": [
    "fig, ax = plt.subplots(1,2, figsize=(12,4))\n",
    "ax[0].hist(mjj)\n",
    "ax[1].hist(detajj)\n",
    "\n",
    "plt.show()"
   ]
  },
  {
   "cell_type": "markdown",
   "id": "063aea47",
   "metadata": {},
   "source": [
    "### neutrinos"
   ]
  },
  {
   "cell_type": "code",
   "execution_count": 14,
   "id": "d99eeeb5",
   "metadata": {},
   "outputs": [
    {
     "name": "stdout",
     "output_type": "stream",
     "text": [
      "(153900, 2, 3)\n",
      "(153900, 2, 3)\n"
     ]
    }
   ],
   "source": [
    "nuPt1 = np.log(1 + ssww['ptv1'].array(library='np'))\n",
    "nuPt2 = np.log(1 + ssww['ptv2'].array(library='np'))\n",
    "\n",
    "nuEta1 = ssww['etav1'].array(library='np')\n",
    "nuEta2 = ssww['etav2'].array(library='np')\n",
    "\n",
    "nuPhi1 = logit( (ssww['phiv1'].array(library='np') + PI )/(2*PI), clip=1e-6)\n",
    "nuPhi2 = logit( (ssww['phiv2'].array(library='np') + PI )/(2*PI), clip=1e-6)\n",
    "\n",
    "nuPt = np.stack([nuPt1,nuPt2], axis=1)\n",
    "nuEta = np.stack([nuEta1,nuEta2], axis=1)\n",
    "nuPhi = np.stack([nuPhi1,nuPhi2], axis=1)\n",
    "\n",
    "nuTensor = np.stack([nuPt, nuEta, nuPhi], axis=2)\n",
    "\n",
    "nu_mean = np.mean(nuTensor, axis=(0,1))\n",
    "nu_std = np.std(nuTensor, axis=(0,1))\n",
    "nu_scaling = np.stack([nu_mean, nu_std], axis=1)\n",
    "\n",
    "nuTensorNorm = (nuTensor - nu_mean)/nu_std\n",
    "\n",
    "print (np.shape(nuTensor))\n",
    "print (np.shape(nuTensorNorm))"
   ]
  },
  {
   "cell_type": "markdown",
   "id": "20a8378b",
   "metadata": {},
   "source": [
    "## non VBS jets\n",
    "\n",
    "Would be interesting to try and **add a label to the VBS jets** (in the events, they're the two jets with the highest mjj). I will not try for the moment!"
   ]
  },
  {
   "cell_type": "code",
   "execution_count": 15,
   "id": "84aab6de",
   "metadata": {},
   "outputs": [],
   "source": [
    "jet_variables = [k for k in ssww.keys() if 'CleanJet_' in k]\n",
    "df = ssww.arrays(jet_variables)\n",
    "\n",
    "#df"
   ]
  },
  {
   "cell_type": "code",
   "execution_count": 16,
   "id": "2b03c962",
   "metadata": {},
   "outputs": [
    {
     "data": {
      "text/html": [
       "<pre>[[{pt: 93, eta: -2.4, phi: 1.33, m: 8.7}, ..., {pt: 17, eta: -0.497, ...}],\n",
       " [{pt: 132, eta: -2.77, phi: -0.577, m: 16}, {pt: 63, eta: 3.13, ...}],\n",
       " [{pt: 173, eta: 1.7, phi: 0.619, m: 26.1}, ..., {pt: 15.7, eta: -4.46, ...}],\n",
       " [{pt: 140, eta: 3.37, phi: 1.71, m: 21.2}, ..., {pt: 15, eta: 1.35, ...}],\n",
       " [{pt: 117, eta: -2.77, phi: -0.849, m: 14.2}, ..., {pt: 16.9, eta: ..., ...}],\n",
       " [{pt: 98.2, eta: 0.774, phi: 3.08, m: 12.7}, ..., {pt: 15.1, eta: 0.704, ...}],\n",
       " [{pt: 141, eta: -2.58, phi: 0.492, m: 21.9}, ..., {pt: 20, eta: 2.28, ...}],\n",
       " [{pt: 236, eta: -1.32, phi: -0.954, m: 26.3}, {pt: 60.5, eta: 2.36, ...}],\n",
       " [{pt: 195, eta: -1.48, phi: 2.32, m: 22.6}, ..., {pt: 7.48, eta: 2.61, ...}],\n",
       " [{pt: 192, eta: -1.94, phi: -1.47, m: 18.5}, ..., {pt: 29.1, eta: 1.61, ...}],\n",
       " ...,\n",
       " [{pt: 358, eta: 2.58, phi: 1.81, m: 49}, ..., {pt: 15.9, eta: -2.91, ...}],\n",
       " [{pt: 299, eta: 1.28, phi: -1.86, m: 18.6}, ..., {pt: 17.1, eta: 1.95, ...}],\n",
       " [{pt: 71.6, eta: 3.2, phi: -2.92, m: 10.5}, ..., {pt: 16.9, eta: 1.96, ...}],\n",
       " [{pt: 140, eta: -3.45, phi: -1.97, m: 20.1}, ..., {pt: 15.1, eta: -1.11, ...}],\n",
       " [{pt: 203, eta: -1.46, phi: 0.0857, m: 19.7}, ..., {pt: 20, eta: -2.79, ...}],\n",
       " [{pt: 154, eta: -2.02, phi: -3.1, m: 10.4}, ..., {pt: 14.2, eta: 2.94, ...}],\n",
       " [{pt: 218, eta: -2.13, phi: 2.67, m: 41.2}, ..., {pt: 16.4, eta: 2.42, ...}],\n",
       " [{pt: 96.2, eta: 1.07, phi: 1.45, m: 12.4}, ..., {pt: 16.1, eta: 3.84, ...}],\n",
       " [{pt: 339, eta: -0.329, phi: -1.04, m: 59.1}, ..., {pt: 19.1, eta: ..., ...}]]\n",
       "--------------------------------------------------------------------------------\n",
       "type: 153900 * var * Momentum4D[\n",
       "    pt: float32,\n",
       "    eta: float32,\n",
       "    phi: float32,\n",
       "    m: float32\n",
       "]</pre>"
      ],
      "text/plain": [
       "<Array [[{pt: 93, eta: -2.4, ...}, ...], ...] type='153900 * var * Momentum...'>"
      ]
     },
     "execution_count": 16,
     "metadata": {},
     "output_type": "execute_result"
    }
   ],
   "source": [
    "Jets = ak.zip({\"pt\": df.CleanJet_pt, \n",
    "            \"eta\": df.CleanJet_eta, \n",
    "            \"phi\": df.CleanJet_phi, \n",
    "            \"m\": df.CleanJet_mass},\n",
    "             with_name='Momentum4D')\n",
    "\n",
    "Jets"
   ]
  },
  {
   "cell_type": "markdown",
   "id": "6d437c85",
   "metadata": {},
   "source": [
    "**Padding the jets to a total of 10:**"
   ]
  },
  {
   "cell_type": "code",
   "execution_count": 17,
   "id": "7279e8d7",
   "metadata": {},
   "outputs": [
    {
     "data": {
      "text/plain": [
       "array([[ True,  True,  True, ..., False, False, False],\n",
       "       [ True,  True, False, ..., False, False, False],\n",
       "       [ True,  True,  True, ..., False, False, False],\n",
       "       ...,\n",
       "       [ True,  True,  True, ..., False, False, False],\n",
       "       [ True,  True,  True, ..., False, False, False],\n",
       "       [ True,  True,  True, ..., False, False, False]])"
      ]
     },
     "execution_count": 17,
     "metadata": {},
     "output_type": "execute_result"
    }
   ],
   "source": [
    "jet_pt = ak.to_numpy(ak.values_astype(ak.fill_none(ak.pad_none(Jets.pt, 10, clip=True), 0.),to=\"float32\"))\n",
    "jet_eta = ak.to_numpy(ak.values_astype(ak.fill_none(ak.pad_none(Jets.eta, 10, clip=True), 0.),to=\"float32\"))\n",
    "jet_phi = ak.to_numpy(ak.values_astype(ak.fill_none(ak.pad_none(Jets.phi, 10, clip=True), 0.),to=\"float32\"))\n",
    "jet_mass = ak.to_numpy(ak.values_astype(ak.fill_none(ak.pad_none(Jets.m, 10, clip=True), 0.),to=\"float32\"))\n",
    "\n",
    "mask_pad = jet_pt > 0.\n",
    "mask_pad"
   ]
  },
  {
   "cell_type": "code",
   "execution_count": 18,
   "id": "634155bb",
   "metadata": {},
   "outputs": [
    {
     "name": "stdout",
     "output_type": "stream",
     "text": [
      "(153900, 10, 4)\n",
      "(153900, 10, 4)\n"
     ]
    }
   ],
   "source": [
    "jetTensor = np.stack([jet_pt, jet_eta, jet_phi, jet_mass], axis=2)\n",
    "\n",
    "\n",
    "# need to account for padding not to bias mean and std\n",
    "jet_mean = np.mean(jetTensor[mask_pad], axis=(0))\n",
    "jet_std = np.std(jetTensor[mask_pad], axis=(0))\n",
    "jet_scaling = np.stack([jet_mean, jet_std], axis=1)\n",
    "\n",
    "jetTensorNorm = np.where(mask_pad[:,:,None], (jetTensor - jet_mean)/jet_std, np.zeros(jetTensor.shape))\n",
    "\n",
    "print (np.shape(jetTensor))\n",
    "print (np.shape(jetTensorNorm))"
   ]
  },
  {
   "cell_type": "code",
   "execution_count": 19,
   "id": "6e1da933",
   "metadata": {},
   "outputs": [
    {
     "data": {
      "text/plain": [
       "array([[[ 93.035866  ,  -2.3999023 ,   1.3295898 ,   8.699919  ],\n",
       "        [ 92.56884   ,   2.0336914 ,  -2.0302734 ,  11.4148445 ],\n",
       "        [ 16.953512  ,  -0.49664307,   0.63952637,   3.8769963 ],\n",
       "        [  0.        ,   0.        ,   0.        ,   0.        ],\n",
       "        [  0.        ,   0.        ,   0.        ,   0.        ],\n",
       "        [  0.        ,   0.        ,   0.        ,   0.        ],\n",
       "        [  0.        ,   0.        ,   0.        ,   0.        ],\n",
       "        [  0.        ,   0.        ,   0.        ,   0.        ],\n",
       "        [  0.        ,   0.        ,   0.        ,   0.        ],\n",
       "        [  0.        ,   0.        ,   0.        ,   0.        ]],\n",
       "\n",
       "       [[131.85062   ,  -2.7705078 ,  -0.5773926 ,  15.959492  ],\n",
       "        [ 63.00726   ,   3.1259766 ,   2.3813477 ,  10.241407  ],\n",
       "        [  0.        ,   0.        ,   0.        ,   0.        ],\n",
       "        [  0.        ,   0.        ,   0.        ,   0.        ],\n",
       "        [  0.        ,   0.        ,   0.        ,   0.        ],\n",
       "        [  0.        ,   0.        ,   0.        ,   0.        ],\n",
       "        [  0.        ,   0.        ,   0.        ,   0.        ],\n",
       "        [  0.        ,   0.        ,   0.        ,   0.        ],\n",
       "        [  0.        ,   0.        ,   0.        ,   0.        ],\n",
       "        [  0.        ,   0.        ,   0.        ,   0.        ]]],\n",
       "      dtype=float32)"
      ]
     },
     "execution_count": 19,
     "metadata": {},
     "output_type": "execute_result"
    }
   ],
   "source": [
    "jetTensor[0:2]"
   ]
  },
  {
   "cell_type": "markdown",
   "id": "a7bd2720",
   "metadata": {},
   "source": [
    "# Saving data out"
   ]
  },
  {
   "cell_type": "code",
   "execution_count": 20,
   "id": "0bfdf860",
   "metadata": {},
   "outputs": [],
   "source": [
    "outfolder = \"/eos/user/g/glavizza/nanoAOD/ntuples_polarized/training_datasets\""
   ]
  },
  {
   "cell_type": "code",
   "execution_count": 23,
   "id": "dd1a16be",
   "metadata": {},
   "outputs": [
    {
     "name": "stdout",
     "output_type": "stream",
     "text": [
      "nEvents: 153900, N training 107730, N validation 46170\n"
     ]
    }
   ],
   "source": [
    "N_events = len(ssww_pd)\n",
    "N_training = floor(N_events * 0.7)\n",
    "N_validation = N_events - N_training\n",
    "print(f\"nEvents: {N_events}, N training {N_training}, N validation {N_validation}\")"
   ]
  },
  {
   "cell_type": "code",
   "execution_count": 24,
   "id": "30e301cc",
   "metadata": {},
   "outputs": [],
   "source": [
    "np.save(f\"{outfolder}/lep_data_training.npy\", lepTensorNorm[:N_training]) \n",
    "np.save(f\"{outfolder}/lep_data_validation.npy\", lepTensorNorm[N_training:])\n",
    "\n",
    "np.save(f\"{outfolder}/jet_data_training.npy\", jetTensorNorm[:N_training]) \n",
    "np.save(f\"{outfolder}/jet_data_validation.npy\", jetTensorNorm[N_training:])\n",
    "\n",
    "np.save(f\"{outfolder}/jj_data_training.npy\", jjTensorNorm[:N_training]) \n",
    "np.save(f\"{outfolder}/jj_data_validation.npy\", jjTensorNorm[N_training:])\n",
    "\n",
    "np.save(f\"{outfolder}/met_data_training.npy\", metTensorNorm[:N_training]) \n",
    "np.save(f\"{outfolder}/met_data_validation.npy\", metTensorNorm[N_training:])\n",
    "\n",
    "np.save(f\"{outfolder}/nu_data_training.npy\", nuTensorNorm[:N_training]) \n",
    "np.save(f\"{outfolder}/nu_data_validation.npy\", nuTensorNorm[N_training:])"
   ]
  },
  {
   "cell_type": "markdown",
   "id": "16bbb4d8",
   "metadata": {},
   "source": [
    "### Need to save padding mask (and a fake one also for objects that have fixed dim, i.e. 2leps, MET, dijet system)"
   ]
  },
  {
   "cell_type": "code",
   "execution_count": 31,
   "id": "45155117",
   "metadata": {},
   "outputs": [
    {
     "name": "stdout",
     "output_type": "stream",
     "text": [
      "(153900, 10)\n",
      "[1. 1. 1. 0. 0. 0. 0. 0. 0. 0. 1. 1. 1. 1.]\n",
      "(153900, 14)\n"
     ]
    }
   ],
   "source": [
    "mask_pad_all = np.concatenate([mask_pad, np.ones((mask_pad.shape[0],4))], axis=1) # 10 jets + (2 leps + MET + jj = 4 extra) = size 14\n",
    "print (np.shape(mask_pad))\n",
    "print(mask_pad_all[0])\n",
    "print(np.shape(mask_pad_all))\n",
    "np.save(f\"{outfolder}/jetlepmetjj_padding_mask_training.npy\", mask_pad_all[:N_training])\n",
    "np.save(f\"{outfolder}/jetlepmetjj_padding_mask_validation.npy\", mask_pad_all[N_training:])"
   ]
  },
  {
   "cell_type": "code",
   "execution_count": null,
   "id": "7e6e6860",
   "metadata": {},
   "outputs": [],
   "source": []
  }
 ],
 "metadata": {
  "@webio": {
   "lastCommId": null,
   "lastKernelId": null
  },
  "kernelspec": {
   "display_name": "Python 3",
   "language": "python",
   "name": "python3"
  },
  "language_info": {
   "codemirror_mode": {
    "name": "ipython",
    "version": 3
   },
   "file_extension": ".py",
   "mimetype": "text/x-python",
   "name": "python",
   "nbconvert_exporter": "python",
   "pygments_lexer": "ipython3",
   "version": "3.11.9"
  }
 },
 "nbformat": 4,
 "nbformat_minor": 5
}
